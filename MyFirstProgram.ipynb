{
 "cells": [
  {
   "cell_type": "markdown",
   "metadata": {},
   "source": [
    "## Begin"
   ]
  },
  {
   "cell_type": "markdown",
   "metadata": {},
   "source": [
    "### Moduls"
   ]
  },
  {
   "cell_type": "code",
   "execution_count": 1,
   "metadata": {},
   "outputs": [],
   "source": [
    "import pandas as pd\n",
    "import numpy as np\n",
    "import matplotlib as mpl"
   ]
  },
  {
   "cell_type": "markdown",
   "metadata": {},
   "source": [
    "### Import CSV"
   ]
  },
  {
   "cell_type": "code",
   "execution_count": 2,
   "metadata": {},
   "outputs": [
    {
     "data": {
      "text/html": [
       "<div>\n",
       "<style scoped>\n",
       "    .dataframe tbody tr th:only-of-type {\n",
       "        vertical-align: middle;\n",
       "    }\n",
       "\n",
       "    .dataframe tbody tr th {\n",
       "        vertical-align: top;\n",
       "    }\n",
       "\n",
       "    .dataframe thead th {\n",
       "        text-align: right;\n",
       "    }\n",
       "</style>\n",
       "<table border=\"1\" class=\"dataframe\">\n",
       "  <thead>\n",
       "    <tr style=\"text-align: right;\">\n",
       "      <th></th>\n",
       "      <th>year</th>\n",
       "      <th>month</th>\n",
       "      <th>day</th>\n",
       "      <th>dep_time</th>\n",
       "      <th>dep_delay</th>\n",
       "      <th>arr_time</th>\n",
       "      <th>arr_delay</th>\n",
       "      <th>carrier</th>\n",
       "      <th>tailnum</th>\n",
       "      <th>flight</th>\n",
       "      <th>origin</th>\n",
       "      <th>dest</th>\n",
       "      <th>air_time</th>\n",
       "      <th>distance</th>\n",
       "    </tr>\n",
       "  </thead>\n",
       "  <tbody>\n",
       "    <tr>\n",
       "      <th>0</th>\n",
       "      <td>2013</td>\n",
       "      <td>1</td>\n",
       "      <td>1</td>\n",
       "      <td>517.0</td>\n",
       "      <td>2.0</td>\n",
       "      <td>830.0</td>\n",
       "      <td>11.0</td>\n",
       "      <td>UA</td>\n",
       "      <td>N14228</td>\n",
       "      <td>1545</td>\n",
       "      <td>EWR</td>\n",
       "      <td>IAH</td>\n",
       "      <td>227.0</td>\n",
       "      <td>1400</td>\n",
       "    </tr>\n",
       "    <tr>\n",
       "      <th>1</th>\n",
       "      <td>2013</td>\n",
       "      <td>1</td>\n",
       "      <td>1</td>\n",
       "      <td>533.0</td>\n",
       "      <td>4.0</td>\n",
       "      <td>850.0</td>\n",
       "      <td>20.0</td>\n",
       "      <td>UA</td>\n",
       "      <td>N24211</td>\n",
       "      <td>1714</td>\n",
       "      <td>LGA</td>\n",
       "      <td>IAH</td>\n",
       "      <td>227.0</td>\n",
       "      <td>1416</td>\n",
       "    </tr>\n",
       "    <tr>\n",
       "      <th>2</th>\n",
       "      <td>2013</td>\n",
       "      <td>1</td>\n",
       "      <td>1</td>\n",
       "      <td>542.0</td>\n",
       "      <td>2.0</td>\n",
       "      <td>923.0</td>\n",
       "      <td>33.0</td>\n",
       "      <td>AA</td>\n",
       "      <td>N619AA</td>\n",
       "      <td>1141</td>\n",
       "      <td>JFK</td>\n",
       "      <td>MIA</td>\n",
       "      <td>160.0</td>\n",
       "      <td>1089</td>\n",
       "    </tr>\n",
       "    <tr>\n",
       "      <th>3</th>\n",
       "      <td>2013</td>\n",
       "      <td>1</td>\n",
       "      <td>1</td>\n",
       "      <td>544.0</td>\n",
       "      <td>-1.0</td>\n",
       "      <td>1004.0</td>\n",
       "      <td>-18.0</td>\n",
       "      <td>B6</td>\n",
       "      <td>N804JB</td>\n",
       "      <td>725</td>\n",
       "      <td>JFK</td>\n",
       "      <td>BQN</td>\n",
       "      <td>183.0</td>\n",
       "      <td>1576</td>\n",
       "    </tr>\n",
       "    <tr>\n",
       "      <th>4</th>\n",
       "      <td>2013</td>\n",
       "      <td>1</td>\n",
       "      <td>1</td>\n",
       "      <td>554.0</td>\n",
       "      <td>-6.0</td>\n",
       "      <td>812.0</td>\n",
       "      <td>-25.0</td>\n",
       "      <td>DL</td>\n",
       "      <td>N668DN</td>\n",
       "      <td>461</td>\n",
       "      <td>LGA</td>\n",
       "      <td>ATL</td>\n",
       "      <td>116.0</td>\n",
       "      <td>762</td>\n",
       "    </tr>\n",
       "    <tr>\n",
       "      <th>...</th>\n",
       "      <td>...</td>\n",
       "      <td>...</td>\n",
       "      <td>...</td>\n",
       "      <td>...</td>\n",
       "      <td>...</td>\n",
       "      <td>...</td>\n",
       "      <td>...</td>\n",
       "      <td>...</td>\n",
       "      <td>...</td>\n",
       "      <td>...</td>\n",
       "      <td>...</td>\n",
       "      <td>...</td>\n",
       "      <td>...</td>\n",
       "      <td>...</td>\n",
       "    </tr>\n",
       "    <tr>\n",
       "      <th>336771</th>\n",
       "      <td>2013</td>\n",
       "      <td>9</td>\n",
       "      <td>30</td>\n",
       "      <td>NaN</td>\n",
       "      <td>NaN</td>\n",
       "      <td>NaN</td>\n",
       "      <td>NaN</td>\n",
       "      <td>9E</td>\n",
       "      <td>NaN</td>\n",
       "      <td>3393</td>\n",
       "      <td>JFK</td>\n",
       "      <td>DCA</td>\n",
       "      <td>NaN</td>\n",
       "      <td>213</td>\n",
       "    </tr>\n",
       "    <tr>\n",
       "      <th>336772</th>\n",
       "      <td>2013</td>\n",
       "      <td>9</td>\n",
       "      <td>30</td>\n",
       "      <td>NaN</td>\n",
       "      <td>NaN</td>\n",
       "      <td>NaN</td>\n",
       "      <td>NaN</td>\n",
       "      <td>9E</td>\n",
       "      <td>NaN</td>\n",
       "      <td>3525</td>\n",
       "      <td>LGA</td>\n",
       "      <td>SYR</td>\n",
       "      <td>NaN</td>\n",
       "      <td>198</td>\n",
       "    </tr>\n",
       "    <tr>\n",
       "      <th>336773</th>\n",
       "      <td>2013</td>\n",
       "      <td>9</td>\n",
       "      <td>30</td>\n",
       "      <td>NaN</td>\n",
       "      <td>NaN</td>\n",
       "      <td>NaN</td>\n",
       "      <td>NaN</td>\n",
       "      <td>MQ</td>\n",
       "      <td>N535MQ</td>\n",
       "      <td>3461</td>\n",
       "      <td>LGA</td>\n",
       "      <td>BNA</td>\n",
       "      <td>NaN</td>\n",
       "      <td>764</td>\n",
       "    </tr>\n",
       "    <tr>\n",
       "      <th>336774</th>\n",
       "      <td>2013</td>\n",
       "      <td>9</td>\n",
       "      <td>30</td>\n",
       "      <td>NaN</td>\n",
       "      <td>NaN</td>\n",
       "      <td>NaN</td>\n",
       "      <td>NaN</td>\n",
       "      <td>MQ</td>\n",
       "      <td>N511MQ</td>\n",
       "      <td>3572</td>\n",
       "      <td>LGA</td>\n",
       "      <td>CLE</td>\n",
       "      <td>NaN</td>\n",
       "      <td>419</td>\n",
       "    </tr>\n",
       "    <tr>\n",
       "      <th>336775</th>\n",
       "      <td>2013</td>\n",
       "      <td>9</td>\n",
       "      <td>30</td>\n",
       "      <td>NaN</td>\n",
       "      <td>NaN</td>\n",
       "      <td>NaN</td>\n",
       "      <td>NaN</td>\n",
       "      <td>MQ</td>\n",
       "      <td>N839MQ</td>\n",
       "      <td>3531</td>\n",
       "      <td>LGA</td>\n",
       "      <td>RDU</td>\n",
       "      <td>NaN</td>\n",
       "      <td>431</td>\n",
       "    </tr>\n",
       "  </tbody>\n",
       "</table>\n",
       "<p>336776 rows × 14 columns</p>\n",
       "</div>"
      ],
      "text/plain": [
       "        year  month  day  dep_time  dep_delay  arr_time  arr_delay carrier   \n",
       "0       2013      1    1     517.0        2.0     830.0       11.0      UA  \\\n",
       "1       2013      1    1     533.0        4.0     850.0       20.0      UA   \n",
       "2       2013      1    1     542.0        2.0     923.0       33.0      AA   \n",
       "3       2013      1    1     544.0       -1.0    1004.0      -18.0      B6   \n",
       "4       2013      1    1     554.0       -6.0     812.0      -25.0      DL   \n",
       "...      ...    ...  ...       ...        ...       ...        ...     ...   \n",
       "336771  2013      9   30       NaN        NaN       NaN        NaN      9E   \n",
       "336772  2013      9   30       NaN        NaN       NaN        NaN      9E   \n",
       "336773  2013      9   30       NaN        NaN       NaN        NaN      MQ   \n",
       "336774  2013      9   30       NaN        NaN       NaN        NaN      MQ   \n",
       "336775  2013      9   30       NaN        NaN       NaN        NaN      MQ   \n",
       "\n",
       "       tailnum  flight origin dest  air_time  distance  \n",
       "0       N14228    1545    EWR  IAH     227.0      1400  \n",
       "1       N24211    1714    LGA  IAH     227.0      1416  \n",
       "2       N619AA    1141    JFK  MIA     160.0      1089  \n",
       "3       N804JB     725    JFK  BQN     183.0      1576  \n",
       "4       N668DN     461    LGA  ATL     116.0       762  \n",
       "...        ...     ...    ...  ...       ...       ...  \n",
       "336771     NaN    3393    JFK  DCA       NaN       213  \n",
       "336772     NaN    3525    LGA  SYR       NaN       198  \n",
       "336773  N535MQ    3461    LGA  BNA       NaN       764  \n",
       "336774  N511MQ    3572    LGA  CLE       NaN       419  \n",
       "336775  N839MQ    3531    LGA  RDU       NaN       431  \n",
       "\n",
       "[336776 rows x 14 columns]"
      ]
     },
     "execution_count": 2,
     "metadata": {},
     "output_type": "execute_result"
    }
   ],
   "source": [
    "data = pd.read_csv(\"flights_NY.csv\")\n",
    "data"
   ]
  },
  {
   "cell_type": "markdown",
   "metadata": {},
   "source": [
    "### Correct dep_time and arr_time"
   ]
  },
  {
   "cell_type": "code",
   "execution_count": 3,
   "metadata": {},
   "outputs": [
    {
     "data": {
      "text/plain": [
       "0         317.0\n",
       "1         333.0\n",
       "2         342.0\n",
       "3         344.0\n",
       "4         354.0\n",
       "          ...  \n",
       "336771      NaN\n",
       "336772      NaN\n",
       "336773      NaN\n",
       "336774      NaN\n",
       "336775      NaN\n",
       "Name: dep_time, Length: 336776, dtype: float64"
      ]
     },
     "execution_count": 3,
     "metadata": {},
     "output_type": "execute_result"
    }
   ],
   "source": [
    "data['dep_time'] = (data['dep_time']//100)*60 + data['dep_time']%100\n",
    "data['dep_time']"
   ]
  },
  {
   "cell_type": "code",
   "execution_count": 4,
   "metadata": {},
   "outputs": [
    {
     "data": {
      "text/plain": [
       "0         510.0\n",
       "1         530.0\n",
       "2         563.0\n",
       "3         604.0\n",
       "4         492.0\n",
       "          ...  \n",
       "336771      NaN\n",
       "336772      NaN\n",
       "336773      NaN\n",
       "336774      NaN\n",
       "336775      NaN\n",
       "Name: arr_time, Length: 336776, dtype: float64"
      ]
     },
     "execution_count": 4,
     "metadata": {},
     "output_type": "execute_result"
    }
   ],
   "source": [
    "data['arr_time'] = (data['arr_time']//100)*60 + data['arr_time']%100\n",
    "data['arr_time']"
   ]
  },
  {
   "cell_type": "markdown",
   "metadata": {},
   "source": [
    "## Analysis NaN"
   ]
  },
  {
   "cell_type": "markdown",
   "metadata": {},
   "source": [
    "### Find NaN-cells"
   ]
  },
  {
   "cell_type": "code",
   "execution_count": 5,
   "metadata": {},
   "outputs": [],
   "source": [
    "data_isnull = data.isnull()\n",
    "#data_isnull.sum()"
   ]
  },
  {
   "cell_type": "markdown",
   "metadata": {},
   "source": [
    "### Find NaN-rows  (at least one)"
   ]
  },
  {
   "cell_type": "code",
   "execution_count": 6,
   "metadata": {},
   "outputs": [],
   "source": [
    "data_isnull['have_NaN'] = (data_isnull['dep_time']\n",
    "                    | data_isnull['dep_delay']\n",
    "                    | data_isnull['arr_time']\n",
    "                    | data_isnull['arr_delay']\n",
    "                    | data_isnull['tailnum']\n",
    "                    | data_isnull['air_time'])\n",
    "#data_isnull"
   ]
  },
  {
   "cell_type": "markdown",
   "metadata": {},
   "source": [
    "### Create DataFrame with NaN-rows (at least one)"
   ]
  },
  {
   "cell_type": "code",
   "execution_count": 7,
   "metadata": {},
   "outputs": [],
   "source": [
    "data_withNaN = data[data_isnull['have_NaN']]\n",
    "#data_withNaN"
   ]
  },
  {
   "cell_type": "markdown",
   "metadata": {},
   "source": [
    "### Count NaN-rows"
   ]
  },
  {
   "cell_type": "code",
   "execution_count": 8,
   "metadata": {},
   "outputs": [
    {
     "data": {
      "text/plain": [
       "9430"
      ]
     },
     "execution_count": 8,
     "metadata": {},
     "output_type": "execute_result"
    }
   ],
   "source": [
    "len(data_withNaN)"
   ]
  },
  {
   "cell_type": "markdown",
   "metadata": {},
   "source": [
    "### Create DataFrame without NaN-rows (no one)"
   ]
  },
  {
   "cell_type": "code",
   "execution_count": 9,
   "metadata": {},
   "outputs": [],
   "source": [
    "data_noNaN = data[data_isnull['have_NaN'] == 0]\n",
    "#data_noNaN"
   ]
  },
  {
   "cell_type": "markdown",
   "metadata": {},
   "source": [
    "#### month"
   ]
  },
  {
   "cell_type": "markdown",
   "metadata": {},
   "source": [
    "February is the popular month in NaN-rows (but not October)"
   ]
  },
  {
   "cell_type": "code",
   "execution_count": 10,
   "metadata": {},
   "outputs": [
    {
     "name": "stdout",
     "output_type": "stream",
     "text": [
      "0    8\n",
      "Name: month, dtype: int64\n",
      "0    2\n",
      "Name: month, dtype: int64\n",
      "0    7\n",
      "Name: month, dtype: int64\n"
     ]
    }
   ],
   "source": [
    "print(data_noNaN['month'].mode())\n",
    "print(data_withNaN['month'].mode())\n",
    "print(data['month'].mode())"
   ]
  },
  {
   "cell_type": "code",
   "execution_count": 11,
   "metadata": {
    "scrolled": true
   },
   "outputs": [
    {
     "name": "stdout",
     "output_type": "stream",
     "text": [
      "0.07212857343605848\n",
      "0.1420996818663839\n",
      "0.07408782098486828\n"
     ]
    }
   ],
   "source": [
    "print((data_noNaN['month'] == 2).sum()/data_noNaN['month'].count())\n",
    "print((data_withNaN['month'] == 2).sum()/data_withNaN['month'].count())\n",
    "print((data['month'] == 2).sum()/data['month'].count())"
   ]
  },
  {
   "cell_type": "code",
   "execution_count": 12,
   "metadata": {
    "scrolled": false
   },
   "outputs": [
    {
     "name": "stdout",
     "output_type": "stream",
     "text": [
      "0.08643148228479958\n",
      "0.1200424178154825\n",
      "0.08737261562581657\n"
     ]
    }
   ],
   "source": [
    "print((data_noNaN['month'] == 7).sum()/data_noNaN['month'].count())\n",
    "print((data_withNaN['month'] == 7).sum()/data_withNaN['month'].count())\n",
    "print((data['month'] == 7).sum()/data['month'].count())"
   ]
  },
  {
   "cell_type": "code",
   "execution_count": 13,
   "metadata": {
    "scrolled": false
   },
   "outputs": [
    {
     "name": "stdout",
     "output_type": "stream",
     "text": [
      "0.0878458878373342\n",
      "0.060551431601272535\n",
      "0.0870816210181248\n"
     ]
    }
   ],
   "source": [
    "print((data_noNaN['month'] == 8).sum()/data_noNaN['month'].count())\n",
    "print((data_withNaN['month'] == 8).sum()/data_withNaN['month'].count())\n",
    "print((data['month'] == 8).sum()/data['month'].count())"
   ]
  },
  {
   "cell_type": "markdown",
   "metadata": {},
   "source": [
    "#### day"
   ]
  },
  {
   "cell_type": "markdown",
   "metadata": {},
   "source": [
    "On average day of departure is the middle of month (regardless of NaN-row)"
   ]
  },
  {
   "cell_type": "code",
   "execution_count": 14,
   "metadata": {},
   "outputs": [
    {
     "name": "stdout",
     "output_type": "stream",
     "text": [
      "15.740824693138148\n",
      "14.668080593849417\n",
      "15.71078699194717\n"
     ]
    }
   ],
   "source": [
    "print(data_noNaN['day'].mean())\n",
    "print(data_withNaN['day'].mean())\n",
    "print(data['day'].mean())"
   ]
  },
  {
   "cell_type": "code",
   "execution_count": 15,
   "metadata": {},
   "outputs": [
    {
     "name": "stdout",
     "output_type": "stream",
     "text": [
      "8.777376040837181\n",
      "8.392641380474974\n",
      "8.768607101536873\n"
     ]
    }
   ],
   "source": [
    "print(data_noNaN['day'].std())\n",
    "print(data_withNaN['day'].std())\n",
    "print(data['day'].std())"
   ]
  },
  {
   "cell_type": "markdown",
   "metadata": {},
   "source": [
    "#### dep_time"
   ]
  },
  {
   "cell_type": "markdown",
   "metadata": {},
   "source": [
    "On average NaN-rows have departure litle later (about 50 minits) than not-NaN-rows.\n",
    "And std-value in NaN-rows became smaler."
   ]
  },
  {
   "cell_type": "code",
   "execution_count": 16,
   "metadata": {},
   "outputs": [
    {
     "name": "stdout",
     "output_type": "stream",
     "text": [
      "821.9754418871775\n",
      "875.8604255319149\n",
      "822.1681688537415\n"
     ]
    }
   ],
   "source": [
    "print(data_noNaN['dep_time'].mean())\n",
    "print(data_withNaN['dep_time'].mean())\n",
    "print(data['dep_time'].mean())"
   ]
  },
  {
   "cell_type": "code",
   "execution_count": 17,
   "metadata": {},
   "outputs": [
    {
     "name": "stdout",
     "output_type": "stream",
     "text": [
      "292.75343071300887\n",
      "281.434335934244\n",
      "292.7309898605531\n"
     ]
    }
   ],
   "source": [
    "print(data_noNaN['dep_time'].std())\n",
    "print(data_withNaN['dep_time'].std())\n",
    "print(data['dep_time'].std())"
   ]
  },
  {
   "cell_type": "markdown",
   "metadata": {},
   "source": [
    "#### dep_delay"
   ]
  },
  {
   "cell_type": "markdown",
   "metadata": {},
   "source": [
    "On average dep_delay in NaN-row has bigger value than total rows\n",
    "(bud it has bigger std-value than total rows)"
   ]
  },
  {
   "cell_type": "code",
   "execution_count": 18,
   "metadata": {},
   "outputs": [
    {
     "name": "stdout",
     "output_type": "stream",
     "text": [
      "12.555155706805643\n",
      "36.01702127659574\n",
      "12.639070257304708\n"
     ]
    }
   ],
   "source": [
    "print(data_noNaN['dep_delay'].mean())\n",
    "print(data_withNaN['dep_delay'].mean())\n",
    "print(data['dep_delay'].mean())"
   ]
  },
  {
   "cell_type": "code",
   "execution_count": 19,
   "metadata": {},
   "outputs": [
    {
     "name": "stdout",
     "output_type": "stream",
     "text": [
      "40.06568758558352\n",
      "65.58051386361187\n",
      "40.21006089212995\n"
     ]
    }
   ],
   "source": [
    "print(data_noNaN['dep_delay'].std())\n",
    "print(data_withNaN['dep_delay'].std())\n",
    "print(data['dep_delay'].std())"
   ]
  },
  {
   "cell_type": "markdown",
   "metadata": {},
   "source": [
    "#### dest"
   ]
  },
  {
   "cell_type": "markdown",
   "metadata": {},
   "source": [
    "dest insignificantly depend on NaN-rows"
   ]
  },
  {
   "cell_type": "code",
   "execution_count": 20,
   "metadata": {},
   "outputs": [
    {
     "name": "stdout",
     "output_type": "stream",
     "text": [
      "0    ATL\n",
      "Name: dest, dtype: object\n",
      "0    ORD\n",
      "Name: dest, dtype: object\n",
      "0    ORD\n",
      "Name: dest, dtype: object\n"
     ]
    }
   ],
   "source": [
    "print(data_noNaN['dest'].mode())\n",
    "print(data_withNaN['dest'].mode())\n",
    "print(data['dest'].mode())"
   ]
  },
  {
   "cell_type": "code",
   "execution_count": 21,
   "metadata": {},
   "outputs": [
    {
     "name": "stdout",
     "output_type": "stream",
     "text": [
      "0.051434873192279726\n",
      "0.04008483563096501\n",
      "0.051117062973608574\n"
     ]
    }
   ],
   "source": [
    "print((data_noNaN['dest'] == \"ATL\").sum()/data_noNaN['dest'].count())\n",
    "print((data_withNaN['dest'] == \"ATL\").sum()/data_withNaN['dest'].count())\n",
    "print((data['dest'] == \"ATL\").sum()/data['dest'].count())"
   ]
  },
  {
   "cell_type": "code",
   "execution_count": 22,
   "metadata": {},
   "outputs": [
    {
     "name": "stdout",
     "output_type": "stream",
     "text": [
      "0.05060700298766443\n",
      "0.076033934252386\n",
      "0.051318977599353874\n"
     ]
    }
   ],
   "source": [
    "print((data_noNaN['dest'] == \"ORD\").sum()/data_noNaN['dest'].count())\n",
    "print((data_withNaN['dest'] == \"ORD\").sum()/data_withNaN['dest'].count())\n",
    "print((data['dest'] == \"ORD\").sum()/data['dest'].count())"
   ]
  },
  {
   "cell_type": "markdown",
   "metadata": {},
   "source": [
    "### DataFrame cleaned from NaN-rows"
   ]
  },
  {
   "cell_type": "code",
   "execution_count": 23,
   "metadata": {},
   "outputs": [],
   "source": [
    "data = data_noNaN"
   ]
  },
  {
   "cell_type": "markdown",
   "metadata": {},
   "source": [
    "## Histogram of delays"
   ]
  },
  {
   "cell_type": "markdown",
   "metadata": {},
   "source": [
    "### Create normal delay"
   ]
  },
  {
   "cell_type": "markdown",
   "metadata": {},
   "source": [
    "#### departure"
   ]
  },
  {
   "cell_type": "code",
   "execution_count": 24,
   "metadata": {},
   "outputs": [],
   "source": [
    "normal_dep_delay = data['dep_delay'] - data['dep_delay'].mean()"
   ]
  },
  {
   "cell_type": "code",
   "execution_count": 25,
   "metadata": {},
   "outputs": [],
   "source": [
    "normal_dep_delay = normal_dep_delay/normal_dep_delay.std()"
   ]
  },
  {
   "cell_type": "markdown",
   "metadata": {},
   "source": [
    "#### arrival"
   ]
  },
  {
   "cell_type": "code",
   "execution_count": 26,
   "metadata": {},
   "outputs": [],
   "source": [
    "normal_arr_delay = data['arr_delay'] - data['arr_delay'].mean()"
   ]
  },
  {
   "cell_type": "code",
   "execution_count": 27,
   "metadata": {},
   "outputs": [],
   "source": [
    "normal_arr_delay = normal_arr_delay/normal_arr_delay.std()"
   ]
  },
  {
   "cell_type": "markdown",
   "metadata": {},
   "source": [
    "### Anamalium and non-anamalium division"
   ]
  },
  {
   "cell_type": "markdown",
   "metadata": {},
   "source": [
    "#### departure"
   ]
  },
  {
   "cell_type": "code",
   "execution_count": 41,
   "metadata": {},
   "outputs": [],
   "source": [
    "q = normal_dep_delay.quantile(0.95)"
   ]
  },
  {
   "cell_type": "code",
   "execution_count": 42,
   "metadata": {},
   "outputs": [],
   "source": [
    "dep_anomaly = normal_dep_delay[normal_dep_delay > q]\n",
    "normal_dep_delay = normal_dep_delay[normal_dep_delay <= q]"
   ]
  },
  {
   "cell_type": "code",
   "execution_count": 43,
   "metadata": {},
   "outputs": [
    {
     "name": "stdout",
     "output_type": "stream",
     "text": [
      "count Total     = 327346\n",
      "count Anomalium = 15524\n",
      "max Anomalium     =  1.9828648671882596\n",
      "min Anomalium     =  1.0094633770305559\n",
      "max non-Anomalium =  0.9845043644624096\n",
      "min non-Anomalium = -1.3866018295114837\n"
     ]
    }
   ],
   "source": [
    "print(\"count Total     =\", data['dep_delay'].count())\n",
    "print(\"count Anomalium =\", dep_anomaly.count())\n",
    "print(\"max Anomalium     = \", dep_anomaly.max())\n",
    "print(\"min Anomalium     = \", dep_anomaly.min())\n",
    "print(\"max non-Anomalium = \", normal_dep_delay.max())\n",
    "print(\"min non-Anomalium =\", normal_dep_delay.min())"
   ]
  },
  {
   "cell_type": "markdown",
   "metadata": {},
   "source": [
    "#### arrival"
   ]
  },
  {
   "cell_type": "code",
   "execution_count": 51,
   "metadata": {},
   "outputs": [],
   "source": [
    "q = normal_arr_delay.quantile(0.95)"
   ]
  },
  {
   "cell_type": "code",
   "execution_count": 52,
   "metadata": {},
   "outputs": [],
   "source": [
    "arr_anomaly = normal_arr_delay[normal_arr_delay > q]\n",
    "normal_arr_delay = normal_arr_delay[normal_arr_delay <= q]"
   ]
  },
  {
   "cell_type": "code",
   "execution_count": 53,
   "metadata": {},
   "outputs": [
    {
     "name": "stdout",
     "output_type": "stream",
     "text": [
      "count Total     = 327346\n",
      "count Anomalium = 15615\n",
      "max Anomalium     =  1.9963713154112166\n",
      "min Anomalium     =  1.1001792918059297\n",
      "max non-Anomalium =  1.0777744912157974\n",
      "min non-Anomalium = -2.0813023919928395\n"
     ]
    }
   ],
   "source": [
    "print(\"count Total     =\", data['arr_delay'].count())\n",
    "print(\"count Anomalium =\", arr_anomaly.count())\n",
    "print(\"max Anomalium     = \", arr_anomaly.max())\n",
    "print(\"min Anomalium     = \", arr_anomaly.min())\n",
    "print(\"max non-Anomalium = \", normal_arr_delay.max())\n",
    "print(\"min non-Anomalium =\", normal_arr_delay.min())"
   ]
  },
  {
   "cell_type": "markdown",
   "metadata": {},
   "source": [
    "### Histogram"
   ]
  },
  {
   "cell_type": "markdown",
   "metadata": {},
   "source": [
    "#### departure"
   ]
  },
  {
   "cell_type": "code",
   "execution_count": 54,
   "metadata": {},
   "outputs": [
    {
     "data": {
      "text/plain": [
       "<Axes: >"
      ]
     },
     "execution_count": 54,
     "metadata": {},
     "output_type": "execute_result"
    },
    {
     "data": {
      "image/png": "[encoded data removed]",
      "text/plain": [
       "<Figure size 640x480 with 1 Axes>"
      ]
     },
     "metadata": {},
     "output_type": "display_data"
    }
   ],
   "source": [
    "normal_dep_delay.hist(bins = 50, label = \"nearest 95%\")\n"
   ]
  },
  {
   "cell_type": "code",
   "execution_count": 55,
   "metadata": {},
   "outputs": [
    {
     "data": {
      "text/plain": [
       "<Axes: >"
      ]
     },
     "execution_count": 55,
     "metadata": {},
     "output_type": "execute_result"
    },
    {
     "data": {
      "image/png": "[encoded data removed]",
      "text/plain": [
       "<Figure size 640x480 with 1 Axes>"
      ]
     },
     "metadata": {},
     "output_type": "display_data"
    }
   ],
   "source": [
    "dep_anomaly.hist(bins = 50, label = \"very far 5%\")"
   ]
  },
  {
   "cell_type": "markdown",
   "metadata": {},
   "source": [
    "#### arrival"
   ]
  },
  {
   "cell_type": "code",
   "execution_count": 56,
   "metadata": {},
   "outputs": [
    {
     "data": {
      "text/plain": [
       "<Axes: >"
      ]
     },
     "execution_count": 56,
     "metadata": {},
     "output_type": "execute_result"
    },
    {
     "data": {
      "image/png": "[encoded data removed]",
      "text/plain": [
       "<Figure size 640x480 with 1 Axes>"
      ]
     },
     "metadata": {},
     "output_type": "display_data"
    }
   ],
   "source": [
    "normal_arr_delay.hist(bins = 50, label = \"nearest 95%\")\n"
   ]
  },
  {
   "cell_type": "code",
   "execution_count": 57,
   "metadata": {},
   "outputs": [
    {
     "data": {
      "text/plain": [
       "<Axes: >"
      ]
     },
     "execution_count": 57,
     "metadata": {},
     "output_type": "execute_result"
    },
    {
     "data": {
      "image/png": "[encoded data removed]",
      "text/plain": [
       "<Figure size 640x480 with 1 Axes>"
      ]
     },
     "metadata": {},
     "output_type": "display_data"
    }
   ],
   "source": [
    "arr_anomaly.hist(bins = 50, label = \"very far 5%\")"
   ]
  },
  {
   "cell_type": "markdown",
   "metadata": {},
   "source": [
    "The number of positive values in monotone decreases in the amount of delays"
   ]
  },
  {
   "cell_type": "markdown",
   "metadata": {},
   "source": [
    "## Delay's Analysis"
   ]
  },
  {
   "cell_type": "markdown",
   "metadata": {},
   "source": [
    "### departure"
   ]
  },
  {
   "cell_type": "code",
   "execution_count": 58,
   "metadata": {},
   "outputs": [],
   "source": [
    "departure = data['dep_delay']\n",
    "#departure"
   ]
  },
  {
   "cell_type": "code",
   "execution_count": 59,
   "metadata": {
    "scrolled": true
   },
   "outputs": [
    {
     "name": "stdout",
     "output_type": "stream",
     "text": [
      "mean   = 12.555155706805643\n",
      "median = -2.0\n",
      "std    = 40.06568758558352\n"
     ]
    }
   ],
   "source": [
    "print('mean   =', departure.mean())\n",
    "print('median =', departure.median())\n",
    "print('std    =', departure.std())"
   ]
  },
  {
   "cell_type": "markdown",
   "metadata": {},
   "source": [
    "### arrive"
   ]
  },
  {
   "cell_type": "code",
   "execution_count": 60,
   "metadata": {},
   "outputs": [],
   "source": [
    "arrive = data['arr_delay']\n",
    "#arrive"
   ]
  },
  {
   "cell_type": "code",
   "execution_count": 61,
   "metadata": {
    "scrolled": true
   },
   "outputs": [
    {
     "name": "stdout",
     "output_type": "stream",
     "text": [
      "mean   = 6.89537675731489\n",
      "median = -5.0\n",
      "std    = 44.63329169019399\n"
     ]
    }
   ],
   "source": [
    "print('mean   =', arrive.mean())\n",
    "print('median =', arrive.median())\n",
    "print('std    =', arrive.std())"
   ]
  },
  {
   "cell_type": "markdown",
   "metadata": {},
   "source": [
    "## Confidence interval of average delay"
   ]
  },
  {
   "cell_type": "code",
   "execution_count": 84,
   "metadata": {},
   "outputs": [],
   "source": [
    "carriers = list(data['carrier'].value_counts().index)"
   ]
  },
  {
   "cell_type": "code",
   "execution_count": 113,
   "metadata": {},
   "outputs": [],
   "source": [
    "def quantils(carrier):\n",
    "    my_data = data[data['carrier'] == carrier]['dep_delay']\n",
    "    return str((my_data.quantile(0.025), my_data.quantile(0.975)))\n",
    "def means(carrier):\n",
    "    my_data = data[data['carrier'] == carrier]['dep_delay']\n",
    "    return my_data.mean()"
   ]
  },
  {
   "cell_type": "code",
   "execution_count": 114,
   "metadata": {},
   "outputs": [],
   "source": [
    "ans1 = [quantils(carrier) for carrier in carriers]\n",
    "ans2 = [means(carrier) for carrier in carriers]"
   ]
  },
  {
   "cell_type": "code",
   "execution_count": 119,
   "metadata": {},
   "outputs": [
    {
     "data": {
      "text/html": [
       "<div>\n",
       "<style scoped>\n",
       "    .dataframe tbody tr th:only-of-type {\n",
       "        vertical-align: middle;\n",
       "    }\n",
       "\n",
       "    .dataframe tbody tr th {\n",
       "        vertical-align: top;\n",
       "    }\n",
       "\n",
       "    .dataframe thead th {\n",
       "        text-align: right;\n",
       "    }\n",
       "</style>\n",
       "<table border=\"1\" class=\"dataframe\">\n",
       "  <thead>\n",
       "    <tr style=\"text-align: right;\">\n",
       "      <th></th>\n",
       "      <th>Confidence interval</th>\n",
       "      <th>Mean</th>\n",
       "    </tr>\n",
       "  </thead>\n",
       "  <tbody>\n",
       "    <tr>\n",
       "      <th>US</th>\n",
       "      <td>(-11.0, 80.0)</td>\n",
       "      <td>3.744693</td>\n",
       "    </tr>\n",
       "    <tr>\n",
       "      <th>HA</th>\n",
       "      <td>(-11.475, 83.2749999999997)</td>\n",
       "      <td>4.900585</td>\n",
       "    </tr>\n",
       "    <tr>\n",
       "      <th>AS</th>\n",
       "      <td>(-14.3, 106.09999999999968)</td>\n",
       "      <td>5.830748</td>\n",
       "    </tr>\n",
       "    <tr>\n",
       "      <th>AA</th>\n",
       "      <td>(-10.0, 114.0)</td>\n",
       "      <td>8.569130</td>\n",
       "    </tr>\n",
       "    <tr>\n",
       "      <th>DL</th>\n",
       "      <td>(-9.0, 113.0)</td>\n",
       "      <td>9.223950</td>\n",
       "    </tr>\n",
       "    <tr>\n",
       "      <th>MQ</th>\n",
       "      <td>(-12.0, 118.0)</td>\n",
       "      <td>10.445381</td>\n",
       "    </tr>\n",
       "    <tr>\n",
       "      <th>UA</th>\n",
       "      <td>(-9.0, 115.0)</td>\n",
       "      <td>12.016908</td>\n",
       "    </tr>\n",
       "    <tr>\n",
       "      <th>OO</th>\n",
       "      <td>(-13.3, 137.9)</td>\n",
       "      <td>12.586207</td>\n",
       "    </tr>\n",
       "    <tr>\n",
       "      <th>VX</th>\n",
       "      <td>(-9.0, 150.0)</td>\n",
       "      <td>12.756646</td>\n",
       "    </tr>\n",
       "    <tr>\n",
       "      <th>B6</th>\n",
       "      <td>(-10.0, 130.0)</td>\n",
       "      <td>12.967548</td>\n",
       "    </tr>\n",
       "    <tr>\n",
       "      <th>9E</th>\n",
       "      <td>(-11.0, 159.0)</td>\n",
       "      <td>16.439574</td>\n",
       "    </tr>\n",
       "    <tr>\n",
       "      <th>WN</th>\n",
       "      <td>(-6.0, 155.92499999999927)</td>\n",
       "      <td>17.661657</td>\n",
       "    </tr>\n",
       "    <tr>\n",
       "      <th>FL</th>\n",
       "      <td>(-12.0, 172.30000000000018)</td>\n",
       "      <td>18.605984</td>\n",
       "    </tr>\n",
       "    <tr>\n",
       "      <th>YV</th>\n",
       "      <td>(-12.0, 165.42499999999995)</td>\n",
       "      <td>18.898897</td>\n",
       "    </tr>\n",
       "    <tr>\n",
       "      <th>EV</th>\n",
       "      <td>(-10.0, 159.0)</td>\n",
       "      <td>19.838929</td>\n",
       "    </tr>\n",
       "    <tr>\n",
       "      <th>F9</th>\n",
       "      <td>(-10.0, 191.0)</td>\n",
       "      <td>20.201175</td>\n",
       "    </tr>\n",
       "  </tbody>\n",
       "</table>\n",
       "</div>"
      ],
      "text/plain": [
       "            Confidence interval       Mean\n",
       "US                (-11.0, 80.0)   3.744693\n",
       "HA  (-11.475, 83.2749999999997)   4.900585\n",
       "AS  (-14.3, 106.09999999999968)   5.830748\n",
       "AA               (-10.0, 114.0)   8.569130\n",
       "DL                (-9.0, 113.0)   9.223950\n",
       "MQ               (-12.0, 118.0)  10.445381\n",
       "UA                (-9.0, 115.0)  12.016908\n",
       "OO               (-13.3, 137.9)  12.586207\n",
       "VX                (-9.0, 150.0)  12.756646\n",
       "B6               (-10.0, 130.0)  12.967548\n",
       "9E               (-11.0, 159.0)  16.439574\n",
       "WN   (-6.0, 155.92499999999927)  17.661657\n",
       "FL  (-12.0, 172.30000000000018)  18.605984\n",
       "YV  (-12.0, 165.42499999999995)  18.898897\n",
       "EV               (-10.0, 159.0)  19.838929\n",
       "F9               (-10.0, 191.0)  20.201175"
      ]
     },
     "execution_count": 119,
     "metadata": {},
     "output_type": "execute_result"
    }
   ],
   "source": [
    "answer = pd.DataFrame([],carriers)\n",
    "answer['Confidence interval'] = ans1\n",
    "answer['Mean'] = ans2\n",
    "answer.sort_values('Mean')"
   ]
  },
  {
   "cell_type": "code",
   "execution_count": 124,
   "metadata": {},
   "outputs": [
    {
     "data": {
      "text/plain": [
       "<Axes: xlabel='carrier'>"
      ]
     },
     "execution_count": 124,
     "metadata": {},
     "output_type": "execute_result"
    },
    {
     "data": {
      "image/png": "[encoded data removed]",
      "text/plain": [
       "<Figure size 640x480 with 1 Axes>"
      ]
     },
     "metadata": {},
     "output_type": "display_data"
    }
   ],
   "source": [
    "sorted_data = data.groupby('carrier')['dep_delay'].mean().sort_values().plot()\n",
    "sorted_data"
   ]
  },
  {
   "cell_type": "markdown",
   "metadata": {},
   "source": [
    "## Are means of AA and DL equal?"
   ]
  },
  {
   "cell_type": "markdown",
   "metadata": {},
   "source": [
    "$$X_1,\\dots,X_n\\sim {\\cal L}(X)$$\n",
    "$$Y_1,\\dots,Y_m\\sim {\\cal L}(Y)$$"
   ]
  },
  {
   "cell_type": "markdown",
   "metadata": {},
   "source": [
    "$$H_0: \\mathbb{E}X=\\mathbb{E}Y$$\n",
    "$$H_1: \\mathbb{E}X\\not=\\mathbb{E}Y$$"
   ]
  },
  {
   "cell_type": "markdown",
   "metadata": {},
   "source": [
    "$H_0:$\n",
    "$$\\mathbb{E}X-\\mathbb{E}Y=0$$\n",
    "$$X-Y\\sim N\\left(0,\\sqrt{\\mathbb{D}X+\\mathbb{D}Y}\\right)$$\n",
    "$$\\overline X-\\overline Y\\sim N\\left(0,\\sqrt{\\frac{\\mathbb{D}X}{n}+\\frac{\\mathbb{D}Y}{m}}\\right)$$\n",
    "$$\\frac{\\overline X-\\overline Y}{\\sqrt{\\frac{\\mathbb{D}X}{n}+\\frac{\\mathbb{D}Y}{m}}}\\sim N(0,1)$$"
   ]
  },
  {
   "cell_type": "markdown",
   "metadata": {},
   "source": [
    "$H_0:$\n",
    "$$P(\\mathbb{E}X=\\mathbb{E}Y)=$$\n",
    "$$=P\\left(\\frac{\\overline X-\\overline Y}{\\sqrt{\\frac{\\mathbb{D}X}{n}+\\frac{\\mathbb{D}Y}{m}}}\\sim N(0,1)\\right)$$"
   ]
  },
  {
   "cell_type": "code",
   "execution_count": 149,
   "metadata": {},
   "outputs": [],
   "source": [
    "DataAA = data[data['carrier'] == 'AA']['dep_delay']\n",
    "#DataAA"
   ]
  },
  {
   "cell_type": "code",
   "execution_count": 150,
   "metadata": {},
   "outputs": [],
   "source": [
    "DataDL = data[data['carrier'] == 'DL']['dep_delay']\n",
    "#DataDL"
   ]
  },
  {
   "cell_type": "code",
   "execution_count": 151,
   "metadata": {},
   "outputs": [
    {
     "name": "stdout",
     "output_type": "stream",
     "text": [
      "31947\n"
     ]
    },
    {
     "data": {
      "text/plain": [
       "-2.3644084232769744"
      ]
     },
     "execution_count": 151,
     "metadata": {},
     "output_type": "execute_result"
    }
   ],
   "source": [
    "Ex = DataAA.mean()\n",
    "Ey = DataDL.mean()\n",
    "Dx = DataAA.std() ** 2\n",
    "Dy = DataDL.std() ** 2\n",
    "n = DataAA.count()\n",
    "m = DataDL.count()\n",
    "Normal = (Ex - Ey)/ (Dx/n+Dy/m) ** 0.5\n",
    "Normal"
   ]
  },
  {
   "cell_type": "code",
   "execution_count": 148,
   "metadata": {},
   "outputs": [
    {
     "data": {
      "text/plain": [
       "0.00902944571770893"
      ]
     },
     "execution_count": 148,
     "metadata": {},
     "output_type": "execute_result"
    }
   ],
   "source": [
    "import scipy.stats as sp\n",
    "sp.norm.cdf(Normal)"
   ]
  },
  {
   "cell_type": "markdown",
   "metadata": {},
   "source": [
    "$H_0:$\n",
    "$$P(\\mathbb{E}X=\\mathbb{E}Y)\\approx0.009$$"
   ]
  },
  {
   "cell_type": "markdown",
   "metadata": {},
   "source": [
    "Significance level should be more than 0.009"
   ]
  }
 ],
 "metadata": {
  "kernelspec": {
   "display_name": "Python 3 (ipykernel)",
   "language": "python",
   "name": "python3"
  },
  "language_info": {
   "codemirror_mode": {
    "name": "ipython",
    "version": 3
   },
   "file_extension": ".py",
   "mimetype": "text/x-python",
   "name": "python",
   "nbconvert_exporter": "python",
   "pygments_lexer": "ipython3",
   "version": "3.10.7"
  }
 },
 "nbformat": 4,
 "nbformat_minor": 2
}
